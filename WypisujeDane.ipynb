{
 "cells": [
  {
   "cell_type": "code",
   "execution_count": null,
   "id": "b12bd25d-0258-4ec6-bf64-d498525e61e9",
   "metadata": {},
   "outputs": [],
   "source": [
    "import PyPDF2\n",
    "import os\n",
    "import pdfplumber\n",
    "import pandas as pd\n",
    "import re"
   ]
  },
  {
   "cell_type": "code",
   "execution_count": null,
   "id": "e869c8fc-9642-46fe-a629-e9eb5ab748e8",
   "metadata": {},
   "outputs": [],
   "source": [
    "listaPDF=[]\n",
    "for x in os.listdir():\n",
    "    if x.endswith(\".pdf\"):\n",
    "        listaPDF.append(x)"
   ]
  },
  {
   "cell_type": "code",
   "execution_count": null,
   "id": "e97e9fd0-49e9-4ecf-a108-3f4bafac6cb8",
   "metadata": {},
   "outputs": [],
   "source": [
    "def zwracaNumerStronyzTabela(pdf):\n",
    "    odczytstrony=0\n",
    "    for i in range(1,len(pdf.pages)):\n",
    "        indeks = len(pdf.pages)-1-i\n",
    "        p0 = pdf.pages[indeks]\n",
    "        text = p0.extract_text()\n",
    "        if text==None:\n",
    "            continue\n",
    "        elif  (text.find('R0110')!=-1 and text.find('C0020')!=-1\n",
    "               and text.find('R0160')==-1 and text.find('R0010')==-1 and text.find('C0030')!=-1):\n",
    "            odczytstrony=indeks\n",
    "        else:\n",
    "            continue\n",
    "    return odczytstrony"
   ]
  },
  {
   "cell_type": "code",
   "execution_count": null,
   "id": "b39ff96c-0fe0-4b9e-a4c8-9314c9e7eef0",
   "metadata": {},
   "outputs": [],
   "source": [
    "def zwracaTabele(pdf,odczytStrony):\n",
    "    p0 = pdf.pages[odczytStrony]\n",
    "    parametry = {\n",
    "                    \"vertical_strategy\": \"lines\",\n",
    "                    \"horizontal_strategy\": \"lines\",\n",
    "                    \"explicit_vertical_lines\": p0.curves, \n",
    "                    \"explicit_horizontal_lines\": p0.curves, \n",
    "                    \"snap_tolerance\": 5,\n",
    "                    \"join_tolerance\": 3,\n",
    "                    \"edge_min_length\": 3,\n",
    "                    \"min_words_vertical\": 3,\n",
    "                    \"min_words_horizontal\": 1,\n",
    "                    \"keep_blank_chars\": True,\n",
    "                    \"text_tolerance\": 3,\n",
    "                    \"text_x_tolerance\": 1.5,\n",
    "                    \"text_y_tolerance\": 1.5,\n",
    "                    \"intersection_tolerance\": 3,\n",
    "                    \"intersection_x_tolerance\": None,\n",
    "                    \"intersection_y_tolerance\": None,\n",
    "                }\n",
    "    tabela = p0.extract_tables(parametry)\n",
    "    return tabela"
   ]
  },
  {
   "cell_type": "code",
   "execution_count": null,
   "id": "94cf431d-458a-4b4a-af22-aca9c2b186be",
   "metadata": {},
   "outputs": [],
   "source": [
    "def usuwaNone(lista):\n",
    "        for a in list(lista):\n",
    "            if a==None:\n",
    "                lista.remove(a)\n",
    "        return lista"
   ]
  },
  {
   "cell_type": "code",
   "execution_count": null,
   "id": "2a60da31-0d1e-4d02-a726-a856e1241653",
   "metadata": {},
   "outputs": [],
   "source": [
    "def wypisujeObserwacje(table,wyciagana_dana):\n",
    "    lista=[]\n",
    "    for i in range(0,len(table)):\n",
    "        for j in range(0,len(table[i])):\n",
    "            for k in range(0,len(table[i][j])):\n",
    "                if table[i][j][k]==wyciagana_dana:\n",
    "                    lista = lista + table[i][j][k+1:len(table[i][j])] \n",
    "                else:\n",
    "                    continue\n",
    "    return lista"
   ]
  },
  {
   "cell_type": "code",
   "execution_count": null,
   "id": "632ca4ab-2c57-4f7b-88bf-d0af655518e4",
   "metadata": {},
   "outputs": [],
   "source": [
    "def sprawdzaWystepowanieWartosci(table,wartosc):\n",
    "    for i in range(0,len(table)):\n",
    "        for j in range(0,len(table[i])):\n",
    "            for k in range(0,len(table[i][j])):\n",
    "                if table[i][j][k]==wartosc:\n",
    "                    return True \n",
    "                    break      \n",
    "                else:\n",
    "                    continue\n",
    "    return False"
   ]
  },
  {
   "cell_type": "code",
   "execution_count": null,
   "id": "aa6b07b5-8dc3-4653-be89-7c26b921c7c8",
   "metadata": {},
   "outputs": [],
   "source": [
    "def sprawdzaWystepowanieDanychSkladki(table):\n",
    "    for i in range(0,len(table)):\n",
    "        for j in range(0,len(table[i])):\n",
    "            for k in range(0,len(table[i][j])):\n",
    "                if bool(re.search('R[0-9]', str(table[i][j][k]).replace(\" \",\"\")))==True:\n",
    "                    return True \n",
    "                    break      \n",
    "                else:\n",
    "                    continue\n",
    "    return False"
   ]
  },
  {
   "cell_type": "code",
   "execution_count": null,
   "id": "065dfede-2b8f-46a1-951b-9bc2f826064d",
   "metadata": {},
   "outputs": [],
   "source": [
    "def zwracaIndeksy(table,wyciaganaDana):\n",
    "    lista=[]\n",
    "    for i in range(0,len(table)):\n",
    "        for j in range(0,len(table[i])):\n",
    "            for k in range(0,len(table[i][j])):\n",
    "                if table[i][j][k]==wyciaganaDana:\n",
    "                    lista.append(i)\n",
    "                    lista.append(j)\n",
    "                else:\n",
    "                    continue\n",
    "    return lista"
   ]
  },
  {
   "cell_type": "code",
   "execution_count": null,
   "id": "6c02723a-c3ab-4a28-98c2-1ecbdca83ab2",
   "metadata": {},
   "outputs": [],
   "source": [
    "daneKoncowe=[]\n",
    "for sprawozdanie in listaPDF:\n",
    "    print(f\"Analizuje sprawozdanie: {sprawozdanie}\")\n",
    "    print(\"----------------------------------\")\n",
    "    pdf = pdfplumber.open(sprawozdanie)\n",
    "    strona = zwracaNumerStronyzTabela(pdf)\n",
    "    tabela = zwracaTabele(pdf,strona)\n",
    "    wyciaganeDanezTabeli = ['R0110','R0120','R0130','R0140','R0200','R0210','R0220','R0230','R0240','R0300','R0310','R0320','R0330',\n",
    "                     'R0340','R0400','R0410','R0420','R0430','R0440','R0500','R0550','R1200','R1300']\n",
    "    for pobieranaDana in wyciaganeDanezTabeli:\n",
    "        lista = []\n",
    "        lista.append(sprawozdanie)\n",
    "        lista.append(pobieranaDana)\n",
    "        analizowana_strona=strona\n",
    "        obserwacje=[]\n",
    "        obserwacje += list(usuwaNone(wypisujeObserwacje(tabela,pobieranaDana)))\n",
    "        if sprawdzaWystepowanieWartosci(tabela,'Ogółem')==False:\n",
    "            while (len(obserwacje)<17):\n",
    "                analizowanaStrona=analizowanaStrona+1\n",
    "                obserwacje2 = []\n",
    "                tabela2 = zwracaTabele(pdf,analizowana_strona)\n",
    "                if sprawdzaWystepowanieDanychSkladki(tabela2)==True:\n",
    "                    obserwacje2 = usuwaNone(wypisujeObserwacje(tabela2,pobieranaDana))\n",
    "                    obserwacje +=obserwacje2\n",
    "                else:\n",
    "                    indeks = zwracaIndeksy(tabela,wyciagana_dana)\n",
    "                    obserwacje+=tabela2[indeks[0]][indeks[1]]\n",
    "\n",
    "        lista+=usuwaNone(obserwacje)\n",
    "        daneKoncowe.append(lista)\n",
    "    "
   ]
  }
 ],
 "metadata": {
  "kernelspec": {
   "display_name": "Python 3",
   "language": "python",
   "name": "python3"
  },
  "language_info": {
   "codemirror_mode": {
    "name": "ipython",
    "version": 3
   },
   "file_extension": ".py",
   "mimetype": "text/x-python",
   "name": "python",
   "nbconvert_exporter": "python",
   "pygments_lexer": "ipython3",
   "version": "3.8.8"
  }
 },
 "nbformat": 4,
 "nbformat_minor": 5
}
