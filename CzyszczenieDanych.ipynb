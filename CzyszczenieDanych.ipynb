{
 "cells": [
  {
   "cell_type": "code",
   "execution_count": null,
   "id": "298ab935-5969-4b02-80ea-260279a325af",
   "metadata": {},
   "outputs": [],
   "source": [
    "def zmianiaAmerykanski(string):\n",
    "    s = ''\n",
    "    if len(string)>2:\n",
    "        for i in range(0,len(string)-3):\n",
    "            if string[i] == '.':\n",
    "                continue\n",
    "            else:\n",
    "                s += string[i]\n",
    "        s += string[len(string)-3:len(string)]\n",
    "    else:\n",
    "        s += string\n",
    "        \n",
    "    \n",
    "    return s    "
   ]
  },
  {
   "cell_type": "code",
   "execution_count": null,
   "id": "1583673a-fc6c-4d7b-be3a-36810e6dcc5b",
   "metadata": {},
   "outputs": [],
   "source": [
    "def konwerujeListy(kolumna):\n",
    "    pomocnicza = []\n",
    "    print(list(kolumna))\n",
    "    for element in list(kolumna):\n",
    "        if len(str(element))==1 and str(element)==\"-\":\n",
    "            pomocnicza.append('-')\n",
    "        elif len(str(element))==0:\n",
    "            pomocnicza.append(float('0'))\n",
    "        elif str(element)=='None':\n",
    "            pomocnicza.append('-')\n",
    "        elif str(element)=='NaN':\n",
    "            pomocnicza.append('-')\n",
    "        else:\n",
    "            pomocnicza.append(\n",
    "                float(\n",
    "                    zmianiaAmerykanski(\n",
    "                        str(element).replace(\" \",\"\").replace(\",\",\".\").replace('(',\"\").replace(\")\",'')\n",
    "                    )\n",
    "                    )     \n",
    "            )\n",
    "    return pomocnicza"
   ]
  },
  {
   "cell_type": "code",
   "execution_count": null,
   "id": "ed25682b-9cbb-4217-b81f-a49133ebe6bf",
   "metadata": {},
   "outputs": [],
   "source": [
    "def konwertujeDataFrame(tabela,kolumny):\n",
    "    pd.options.display.float_format = '{:.2f}'.format\n",
    "\n",
    "    for kolumna in kolumny:\n",
    "        tabela[kolumna] = konwerujeListy(tabela[kolumna])\n",
    "    return tabela"
   ]
  }
 ],
 "metadata": {
  "kernelspec": {
   "display_name": "Python 3",
   "language": "python",
   "name": "python3"
  },
  "language_info": {
   "codemirror_mode": {
    "name": "ipython",
    "version": 3
   },
   "file_extension": ".py",
   "mimetype": "text/x-python",
   "name": "python",
   "nbconvert_exporter": "python",
   "pygments_lexer": "ipython3",
   "version": "3.8.8"
  }
 },
 "nbformat": 4,
 "nbformat_minor": 5
}
